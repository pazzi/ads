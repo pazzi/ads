{
 "cells": [
  {
   "cell_type": "code",
   "execution_count": 3,
   "metadata": {},
   "outputs": [],
   "source": [
    "from scipy.stats import binom"
   ]
  },
  {
   "cell_type": "markdown",
   "metadata": {},
   "source": [
    "## Questão 1\n",
    "\n",
    "Uma urna contém 8 bolas brancas e 12 vermelhas. Retiram-se 10 bolas com reposição. Qual a probabilidade de que:  \n",
    "a) no máximo 2 sejam brancas?  \n",
    "b) 3 sejam brancas?  \n",
    "  \n",
    "a) 0,26927 e b) 0,35981  \n",
    "a) 0,475921 e b) 0,637419  \n",
    "a) 0,16729 e b) 0,21499  \n",
    "a) 0,87459 e b) 0,64357  \n",
    "a) 0,57489 e b) 0,65447  \n",
    "\n",
    "`---\n",
    "Resolução com R - Distribuição Binomial!  "
   ]
  },
  {
   "cell_type": "code",
   "execution_count": 18,
   "metadata": {},
   "outputs": [],
   "source": [
    "a = binom.cdf(2,10,8/20)"
   ]
  },
  {
   "cell_type": "code",
   "execution_count": 30,
   "metadata": {},
   "outputs": [
    {
     "name": "stdout",
     "output_type": "stream",
     "text": [
      "a=0.167290\n"
     ]
    }
   ],
   "source": [
    "print(f'a={a:2f}')"
   ]
  },
  {
   "cell_type": "code",
   "execution_count": 20,
   "metadata": {},
   "outputs": [],
   "source": [
    "b = binom.pmf(3,10,8/20)"
   ]
  },
  {
   "cell_type": "code",
   "execution_count": 31,
   "metadata": {},
   "outputs": [
    {
     "name": "stdout",
     "output_type": "stream",
     "text": [
      "b=0.214991\n"
     ]
    }
   ],
   "source": [
    "print(f'b={b:2f}')\n"
   ]
  },
  {
   "cell_type": "code",
   "execution_count": null,
   "metadata": {},
   "outputs": [],
   "source": []
  }
 ],
 "metadata": {
  "kernelspec": {
   "display_name": "Python 3",
   "language": "python",
   "name": "python3"
  },
  "language_info": {
   "codemirror_mode": {
    "name": "ipython",
    "version": 3
   },
   "file_extension": ".py",
   "mimetype": "text/x-python",
   "name": "python",
   "nbconvert_exporter": "python",
   "pygments_lexer": "ipython3",
   "version": "3.8.5"
  }
 },
 "nbformat": 4,
 "nbformat_minor": 4
}
